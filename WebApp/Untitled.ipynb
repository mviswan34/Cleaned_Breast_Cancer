{
 "cells": [
  {
   "cell_type": "code",
   "execution_count": 6,
   "id": "38d7eec6",
   "metadata": {},
   "outputs": [
    {
     "name": "stderr",
     "output_type": "stream",
     "text": [
      "2022-09-25 20:41:58.967 WARNING streamlit.runtime.state.session_state_proxy: Session state does not function when running a script without `streamlit run`\n",
      "2022-09-25 20:41:59.313 \n",
      "  \u001b[33m\u001b[1mWarning:\u001b[0m to view this Streamlit app on a browser, run it with the following\n",
      "  command:\n",
      "\n",
      "    streamlit run C:\\Users\\megha\\anaconda3\\lib\\site-packages\\ipykernel_launcher.py [ARGUMENTS]\n"
     ]
    }
   ],
   "source": [
    "import streamlit as st\n",
    "import seaborn as sns\n",
    "import pandas as pd\n",
    "df = pd.read_csv(\"CancerData.csv\")\n",
    "df_mean = df[df.columns[:11]]\n",
    "df_se = df.iloc[:, [0,11,12,13,14,15,16,17,18,19,20]]\n",
    "df_worst = df.iloc[:,[0,21,22,23,24,25,26,27,28,29,30]]\n",
    "\n",
    "value = st.slider('val')  # this is a widget\n",
    "st.write(value, 'squared is', value * value)"
   ]
  }
 ],
 "metadata": {
  "kernelspec": {
   "display_name": "Python 3 (ipykernel)",
   "language": "python",
   "name": "python3"
  },
  "language_info": {
   "codemirror_mode": {
    "name": "ipython",
    "version": 3
   },
   "file_extension": ".py",
   "mimetype": "text/x-python",
   "name": "python",
   "nbconvert_exporter": "python",
   "pygments_lexer": "ipython3",
   "version": "3.9.12"
  }
 },
 "nbformat": 4,
 "nbformat_minor": 5
}
